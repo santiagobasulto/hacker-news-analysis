{
 "cells": [
  {
   "cell_type": "code",
   "execution_count": 15,
   "metadata": {},
   "outputs": [],
   "source": [
    "import os"
   ]
  },
  {
   "cell_type": "code",
   "execution_count": 18,
   "metadata": {},
   "outputs": [],
   "source": [
    "assert os.path.isfile('hn_data/hn.csv'), \"HN Data missing, check the README\""
   ]
  },
  {
   "cell_type": "code",
   "execution_count": 10,
   "metadata": {},
   "outputs": [],
   "source": [
    "import pandas as pd\n",
    "import numpy as np\n",
    "\n",
    "# Plotting\n",
    "import pygal\n",
    "import seaborn as sns\n",
    "import matplotlib.pyplot as plt\n",
    "\n",
    "import calendar\n",
    "\n",
    "from utils import render\n",
    "\n",
    "%matplotlib inline"
   ]
  },
  {
   "cell_type": "code",
   "execution_count": 22,
   "metadata": {},
   "outputs": [],
   "source": [
    "df = pd.read_csv(\n",
    "    'hn_data/hn.csv', index_col='Object ID',\n",
    "    parse_dates=['Created At'],\n",
    "    dtype={\n",
    "        'Post Type': 'category'\n",
    "    })"
   ]
  },
  {
   "cell_type": "code",
   "execution_count": 23,
   "metadata": {},
   "outputs": [
    {
     "data": {
      "text/html": [
       "<div>\n",
       "<style scoped>\n",
       "    .dataframe tbody tr th:only-of-type {\n",
       "        vertical-align: middle;\n",
       "    }\n",
       "\n",
       "    .dataframe tbody tr th {\n",
       "        vertical-align: top;\n",
       "    }\n",
       "\n",
       "    .dataframe thead th {\n",
       "        text-align: right;\n",
       "    }\n",
       "</style>\n",
       "<table border=\"1\" class=\"dataframe\">\n",
       "  <thead>\n",
       "    <tr style=\"text-align: right;\">\n",
       "      <th></th>\n",
       "      <th>Title</th>\n",
       "      <th>Post Type</th>\n",
       "      <th>Author</th>\n",
       "      <th>Created At</th>\n",
       "      <th>URL</th>\n",
       "      <th>Points</th>\n",
       "      <th>Number of Comments</th>\n",
       "    </tr>\n",
       "    <tr>\n",
       "      <th>Object ID</th>\n",
       "      <th></th>\n",
       "      <th></th>\n",
       "      <th></th>\n",
       "      <th></th>\n",
       "      <th></th>\n",
       "      <th></th>\n",
       "      <th></th>\n",
       "    </tr>\n",
       "  </thead>\n",
       "  <tbody>\n",
       "    <tr>\n",
       "      <th>1</th>\n",
       "      <td>Y Combinator</td>\n",
       "      <td>story</td>\n",
       "      <td>pg</td>\n",
       "      <td>2006-10-09 18:21:51</td>\n",
       "      <td>http://ycombinator.com</td>\n",
       "      <td>61</td>\n",
       "      <td>18.0</td>\n",
       "    </tr>\n",
       "    <tr>\n",
       "      <th>2</th>\n",
       "      <td>A Student's Guide to Startups</td>\n",
       "      <td>story</td>\n",
       "      <td>phyllis</td>\n",
       "      <td>2006-10-09 18:30:28</td>\n",
       "      <td>http://www.paulgraham.com/mit.html</td>\n",
       "      <td>16</td>\n",
       "      <td>1.0</td>\n",
       "    </tr>\n",
       "    <tr>\n",
       "      <th>3</th>\n",
       "      <td>Woz Interview: the early days of Apple</td>\n",
       "      <td>story</td>\n",
       "      <td>phyllis</td>\n",
       "      <td>2006-10-09 18:40:33</td>\n",
       "      <td>http://www.foundersatwork.com/stevewozniak.html</td>\n",
       "      <td>7</td>\n",
       "      <td>1.0</td>\n",
       "    </tr>\n",
       "    <tr>\n",
       "      <th>4</th>\n",
       "      <td>NYC Developer Dilemma</td>\n",
       "      <td>story</td>\n",
       "      <td>onebeerdave</td>\n",
       "      <td>2006-10-09 18:47:42</td>\n",
       "      <td>http://avc.blogs.com/a_vc/2006/10/the_nyc_deve...</td>\n",
       "      <td>5</td>\n",
       "      <td>1.0</td>\n",
       "    </tr>\n",
       "    <tr>\n",
       "      <th>5</th>\n",
       "      <td>Google, YouTube acquisition announcement could...</td>\n",
       "      <td>story</td>\n",
       "      <td>perler</td>\n",
       "      <td>2006-10-09 18:51:04</td>\n",
       "      <td>http://www.techcrunch.com/2006/10/09/google-yo...</td>\n",
       "      <td>7</td>\n",
       "      <td>1.0</td>\n",
       "    </tr>\n",
       "  </tbody>\n",
       "</table>\n",
       "</div>"
      ],
      "text/plain": [
       "                                                       Title Post Type  \\\n",
       "Object ID                                                                \n",
       "1                                               Y Combinator     story   \n",
       "2                              A Student's Guide to Startups     story   \n",
       "3                     Woz Interview: the early days of Apple     story   \n",
       "4                                      NYC Developer Dilemma     story   \n",
       "5          Google, YouTube acquisition announcement could...     story   \n",
       "\n",
       "                Author          Created At  \\\n",
       "Object ID                                    \n",
       "1                   pg 2006-10-09 18:21:51   \n",
       "2              phyllis 2006-10-09 18:30:28   \n",
       "3              phyllis 2006-10-09 18:40:33   \n",
       "4          onebeerdave 2006-10-09 18:47:42   \n",
       "5               perler 2006-10-09 18:51:04   \n",
       "\n",
       "                                                         URL  Points  \\\n",
       "Object ID                                                              \n",
       "1                                     http://ycombinator.com      61   \n",
       "2                         http://www.paulgraham.com/mit.html      16   \n",
       "3            http://www.foundersatwork.com/stevewozniak.html       7   \n",
       "4          http://avc.blogs.com/a_vc/2006/10/the_nyc_deve...       5   \n",
       "5          http://www.techcrunch.com/2006/10/09/google-yo...       7   \n",
       "\n",
       "           Number of Comments  \n",
       "Object ID                      \n",
       "1                        18.0  \n",
       "2                         1.0  \n",
       "3                         1.0  \n",
       "4                         1.0  \n",
       "5                         1.0  "
      ]
     },
     "execution_count": 23,
     "metadata": {},
     "output_type": "execute_result"
    }
   ],
   "source": [
    "df.head()"
   ]
  },
  {
   "cell_type": "code",
   "execution_count": 24,
   "metadata": {},
   "outputs": [
    {
     "name": "stdout",
     "output_type": "stream",
     "text": [
      "<class 'pandas.core.frame.DataFrame'>\n",
      "Int64Index: 2833355 entries, 1 to 21529222\n",
      "Data columns (total 7 columns):\n",
      "Title                 object\n",
      "Post Type             category\n",
      "Author                object\n",
      "Created At            datetime64[ns]\n",
      "URL                   object\n",
      "Points                int64\n",
      "Number of Comments    float64\n",
      "dtypes: category(1), datetime64[ns](1), float64(1), int64(1), object(3)\n",
      "memory usage: 154.0+ MB\n"
     ]
    }
   ],
   "source": [
    "df.info()"
   ]
  },
  {
   "cell_type": "markdown",
   "metadata": {},
   "source": [
    "##### Total posts:"
   ]
  },
  {
   "cell_type": "code",
   "execution_count": 25,
   "metadata": {},
   "outputs": [
    {
     "data": {
      "text/plain": [
       "'2,833,355'"
      ]
     },
     "execution_count": 25,
     "metadata": {},
     "output_type": "execute_result"
    }
   ],
   "source": [
    "f\"{df.shape[0]:,}\""
   ]
  },
  {
   "cell_type": "markdown",
   "metadata": {},
   "source": [
    "##### Posts per type:"
   ]
  },
  {
   "cell_type": "code",
   "execution_count": 26,
   "metadata": {},
   "outputs": [
    {
     "data": {
      "text/plain": [
       "story      2647714\n",
       "ask_hn      107370\n",
       "show_hn      76726\n",
       "poll          1545\n",
       "Name: Post Type, dtype: int64"
      ]
     },
     "execution_count": 26,
     "metadata": {},
     "output_type": "execute_result"
    }
   ],
   "source": [
    "df['Post Type'].value_counts()"
   ]
  },
  {
   "cell_type": "code",
   "execution_count": 27,
   "metadata": {},
   "outputs": [
    {
     "data": {
      "text/html": [
       "<embed src=data:image/svg+xml;charset=utf-8;base64,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></embed>"
      ],
      "text/plain": [
       "<IPython.core.display.HTML object>"
      ]
     },
     "execution_count": 27,
     "metadata": {},
     "output_type": "execute_result"
    }
   ],
   "source": [
    "chart = pygal.Pie(inner_radius=.4, half_pie=True, explicit_size=600)\n",
    "chart.title = 'Post type share'\n",
    "for title, count in df['Post Type'].value_counts().items():\n",
    "    chart.add(title, count)\n",
    "render(chart)"
   ]
  },
  {
   "cell_type": "markdown",
   "metadata": {},
   "source": [
    "### Data Preparation\n",
    "\n",
    "In my analysis I want to compare the evolution of post types per different date ranges. For example, per month, day of the week, or hour of the day. I'll do the minimum set of data preparation to help me with the analysis and visualizations later."
   ]
  },
  {
   "cell_type": "markdown",
   "metadata": {},
   "source": [
    "##### 1) Localizing `Created At` to Eastern\n",
    "The `Created At` column contains a datetime with the post created, in UTC. We must localize it using pandas and `pytz`:"
   ]
  },
  {
   "cell_type": "code",
   "execution_count": 28,
   "metadata": {},
   "outputs": [],
   "source": [
    "df['Created At Eastern'] = df['Created At'].dt.tz_localize('UTC').dt.tz_convert('US/Eastern')"
   ]
  },
  {
   "cell_type": "markdown",
   "metadata": {},
   "source": [
    "##### 2) Creating a Monthly `Period` for easy search\n",
    "Simplifying access for later queries extracting only the monthly `Period` of a post. If a post was created on `2019-10-31T00:56:23 EST`, the result will be `Period(2019-10)`."
   ]
  },
  {
   "cell_type": "code",
   "execution_count": 29,
   "metadata": {},
   "outputs": [],
   "source": [
    "# Old school: df['created_at_et'].apply(lambda val: pd.Timestamp(year=val.year, month=val.month, day=1))\n",
    "df['Rounded Month'] = df['Created At Eastern'].dt.to_period('m')"
   ]
  },
  {
   "cell_type": "markdown",
   "metadata": {},
   "source": [
    "##### 3) Extracting day of week and hour of day\n",
    "\n",
    "Extracting what day of the week and at what hour the post was created."
   ]
  },
  {
   "cell_type": "code",
   "execution_count": 30,
   "metadata": {
    "scrolled": true
   },
   "outputs": [
    {
     "data": {
      "text/plain": [
       "{0: 'Monday',\n",
       " 1: 'Tuesday',\n",
       " 2: 'Wednesday',\n",
       " 3: 'Thursday',\n",
       " 4: 'Friday',\n",
       " 5: 'Saturday',\n",
       " 6: 'Sunday'}"
      ]
     },
     "execution_count": 30,
     "metadata": {},
     "output_type": "execute_result"
    }
   ],
   "source": [
    "day_conversion_table = {k: calendar.day_name[k] for k in range(7)}\n",
    "day_conversion_table"
   ]
  },
  {
   "cell_type": "code",
   "execution_count": 31,
   "metadata": {},
   "outputs": [],
   "source": [
    "df['Day of Week'] = df['Created At Eastern'].dt.dayofweek.replace(day_conversion_table)"
   ]
  },
  {
   "cell_type": "code",
   "execution_count": 32,
   "metadata": {},
   "outputs": [],
   "source": [
    "df['Hour of the Day'] = df['Created At Eastern'].dt.hour"
   ]
  },
  {
   "cell_type": "markdown",
   "metadata": {},
   "source": [
    "##### 3) Removing the posts from last month\n",
    "\n",
    "To avoid partial results, we'll consider the last full month."
   ]
  },
  {
   "cell_type": "code",
   "execution_count": 33,
   "metadata": {},
   "outputs": [],
   "source": [
    "df.drop(df.loc[df['Rounded Month'] == df['Rounded Month'].iloc[-1]].index, inplace=True)"
   ]
  },
  {
   "cell_type": "markdown",
   "metadata": {},
   "source": [
    "### Putting everything together"
   ]
  },
  {
   "cell_type": "code",
   "execution_count": 83,
   "metadata": {},
   "outputs": [],
   "source": [
    "def read_hn_file(filepath, drop_last_month=True):\n",
    "    df = pd.read_csv(\n",
    "        filepath, index_col='Object ID',\n",
    "        parse_dates=['Created At'],\n",
    "        dtype={\n",
    "            'Post Type': 'category'\n",
    "        })\n",
    "    \n",
    "    df['Created At Eastern'] = df['Created At'].dt.tz_localize('UTC').dt.tz_convert('US/Eastern')\n",
    "    df['Rounded Month'] = df['Created At Eastern'].dt.to_period('m')\n",
    "    \n",
    "    day_conversion_table = {k: calendar.day_name[k] for k in range(7)}\n",
    "    df['Day of Week'] = df['Created At Eastern'].dt.dayofweek.replace(day_conversion_table)\n",
    "    df['Hour of the Day'] = df['Created At Eastern'].dt.hour\n",
    "    \n",
    "    if drop_last_month:\n",
    "        df.drop(df.loc[df['Rounded Month'] == df['Rounded Month'].iloc[-1]].index, inplace=True)\n",
    "    return df"
   ]
  }
 ],
 "metadata": {
  "kernelspec": {
   "display_name": "Python 3",
   "language": "python",
   "name": "python3"
  },
  "language_info": {
   "codemirror_mode": {
    "name": "ipython",
    "version": 3
   },
   "file_extension": ".py",
   "mimetype": "text/x-python",
   "name": "python",
   "nbconvert_exporter": "python",
   "pygments_lexer": "ipython3",
   "version": "3.7.4"
  }
 },
 "nbformat": 4,
 "nbformat_minor": 4
}
