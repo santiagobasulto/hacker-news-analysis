{
 "cells": [
  {
   "cell_type": "code",
   "execution_count": 15,
   "metadata": {},
   "outputs": [],
   "source": [
    "import os"
   ]
  },
  {
   "cell_type": "code",
   "execution_count": 18,
   "metadata": {},
   "outputs": [],
   "source": [
    "assert os.path.isfile('hn_data/hn.csv'), \"HN Data missing, check the README\""
   ]
  },
  {
   "cell_type": "markdown",
   "metadata": {},
   "source": [
    "---"
   ]
  },
  {
   "cell_type": "code",
   "execution_count": 1,
   "metadata": {},
   "outputs": [],
   "source": [
    "import pandas as pd\n",
    "import numpy as np\n",
    "from scipy import stats\n",
    "\n",
    "# Plotting\n",
    "import pygal\n",
    "from pygal import style\n",
    "import seaborn as sns\n",
    "import matplotlib\n",
    "import matplotlib.pyplot as plt\n",
    "\n",
    "import calendar\n",
    "\n",
    "from utils import render, read_hn_file\n",
    "\n",
    "%matplotlib inline"
   ]
  },
  {
   "cell_type": "code",
   "execution_count": 2,
   "metadata": {},
   "outputs": [
    {
     "name": "stderr",
     "output_type": "stream",
     "text": [
      "/Users/santiagobasulto/.virtualenvs/ds-classes/lib/python3.7/site-packages/numpy/lib/arraysetops.py:568: FutureWarning: elementwise comparison failed; returning scalar instead, but in the future will perform elementwise comparison\n",
      "  mask |= (ar1 == a)\n",
      "/Users/santiagobasulto/.virtualenvs/ds-classes/lib/python3.7/site-packages/pandas/core/arrays/datetimes.py:1269: UserWarning: Converting to PeriodArray/Index representation will drop timezone information.\n",
      "  UserWarning,\n"
     ]
    }
   ],
   "source": [
    "df = read_hn_file('hn_data/hn.csv')"
   ]
  },
  {
   "cell_type": "code",
   "execution_count": 3,
   "metadata": {},
   "outputs": [
    {
     "data": {
      "text/html": [
       "<div>\n",
       "<style scoped>\n",
       "    .dataframe tbody tr th:only-of-type {\n",
       "        vertical-align: middle;\n",
       "    }\n",
       "\n",
       "    .dataframe tbody tr th {\n",
       "        vertical-align: top;\n",
       "    }\n",
       "\n",
       "    .dataframe thead th {\n",
       "        text-align: right;\n",
       "    }\n",
       "</style>\n",
       "<table border=\"1\" class=\"dataframe\">\n",
       "  <thead>\n",
       "    <tr style=\"text-align: right;\">\n",
       "      <th></th>\n",
       "      <th>Title</th>\n",
       "      <th>Post Type</th>\n",
       "      <th>Author</th>\n",
       "      <th>Created At</th>\n",
       "      <th>URL</th>\n",
       "      <th>Points</th>\n",
       "      <th>Number of Comments</th>\n",
       "      <th>Created At Eastern</th>\n",
       "      <th>Rounded Month</th>\n",
       "      <th>Day of Week</th>\n",
       "      <th>Hour of the Day</th>\n",
       "    </tr>\n",
       "    <tr>\n",
       "      <th>Object ID</th>\n",
       "      <th></th>\n",
       "      <th></th>\n",
       "      <th></th>\n",
       "      <th></th>\n",
       "      <th></th>\n",
       "      <th></th>\n",
       "      <th></th>\n",
       "      <th></th>\n",
       "      <th></th>\n",
       "      <th></th>\n",
       "      <th></th>\n",
       "    </tr>\n",
       "  </thead>\n",
       "  <tbody>\n",
       "    <tr>\n",
       "      <th>1</th>\n",
       "      <td>Y Combinator</td>\n",
       "      <td>story</td>\n",
       "      <td>pg</td>\n",
       "      <td>2006-10-09 18:21:51</td>\n",
       "      <td>http://ycombinator.com</td>\n",
       "      <td>61</td>\n",
       "      <td>18.0</td>\n",
       "      <td>2006-10-09 14:21:51-04:00</td>\n",
       "      <td>2006-10</td>\n",
       "      <td>Monday</td>\n",
       "      <td>14</td>\n",
       "    </tr>\n",
       "    <tr>\n",
       "      <th>2</th>\n",
       "      <td>A Student's Guide to Startups</td>\n",
       "      <td>story</td>\n",
       "      <td>phyllis</td>\n",
       "      <td>2006-10-09 18:30:28</td>\n",
       "      <td>http://www.paulgraham.com/mit.html</td>\n",
       "      <td>16</td>\n",
       "      <td>1.0</td>\n",
       "      <td>2006-10-09 14:30:28-04:00</td>\n",
       "      <td>2006-10</td>\n",
       "      <td>Monday</td>\n",
       "      <td>14</td>\n",
       "    </tr>\n",
       "    <tr>\n",
       "      <th>3</th>\n",
       "      <td>Woz Interview: the early days of Apple</td>\n",
       "      <td>story</td>\n",
       "      <td>phyllis</td>\n",
       "      <td>2006-10-09 18:40:33</td>\n",
       "      <td>http://www.foundersatwork.com/stevewozniak.html</td>\n",
       "      <td>7</td>\n",
       "      <td>1.0</td>\n",
       "      <td>2006-10-09 14:40:33-04:00</td>\n",
       "      <td>2006-10</td>\n",
       "      <td>Monday</td>\n",
       "      <td>14</td>\n",
       "    </tr>\n",
       "    <tr>\n",
       "      <th>4</th>\n",
       "      <td>NYC Developer Dilemma</td>\n",
       "      <td>story</td>\n",
       "      <td>onebeerdave</td>\n",
       "      <td>2006-10-09 18:47:42</td>\n",
       "      <td>http://avc.blogs.com/a_vc/2006/10/the_nyc_deve...</td>\n",
       "      <td>5</td>\n",
       "      <td>1.0</td>\n",
       "      <td>2006-10-09 14:47:42-04:00</td>\n",
       "      <td>2006-10</td>\n",
       "      <td>Monday</td>\n",
       "      <td>14</td>\n",
       "    </tr>\n",
       "    <tr>\n",
       "      <th>5</th>\n",
       "      <td>Google, YouTube acquisition announcement could...</td>\n",
       "      <td>story</td>\n",
       "      <td>perler</td>\n",
       "      <td>2006-10-09 18:51:04</td>\n",
       "      <td>http://www.techcrunch.com/2006/10/09/google-yo...</td>\n",
       "      <td>7</td>\n",
       "      <td>1.0</td>\n",
       "      <td>2006-10-09 14:51:04-04:00</td>\n",
       "      <td>2006-10</td>\n",
       "      <td>Monday</td>\n",
       "      <td>14</td>\n",
       "    </tr>\n",
       "  </tbody>\n",
       "</table>\n",
       "</div>"
      ],
      "text/plain": [
       "                                                       Title Post Type  \\\n",
       "Object ID                                                                \n",
       "1                                               Y Combinator     story   \n",
       "2                              A Student's Guide to Startups     story   \n",
       "3                     Woz Interview: the early days of Apple     story   \n",
       "4                                      NYC Developer Dilemma     story   \n",
       "5          Google, YouTube acquisition announcement could...     story   \n",
       "\n",
       "                Author          Created At  \\\n",
       "Object ID                                    \n",
       "1                   pg 2006-10-09 18:21:51   \n",
       "2              phyllis 2006-10-09 18:30:28   \n",
       "3              phyllis 2006-10-09 18:40:33   \n",
       "4          onebeerdave 2006-10-09 18:47:42   \n",
       "5               perler 2006-10-09 18:51:04   \n",
       "\n",
       "                                                         URL  Points  \\\n",
       "Object ID                                                              \n",
       "1                                     http://ycombinator.com      61   \n",
       "2                         http://www.paulgraham.com/mit.html      16   \n",
       "3            http://www.foundersatwork.com/stevewozniak.html       7   \n",
       "4          http://avc.blogs.com/a_vc/2006/10/the_nyc_deve...       5   \n",
       "5          http://www.techcrunch.com/2006/10/09/google-yo...       7   \n",
       "\n",
       "           Number of Comments        Created At Eastern Rounded Month  \\\n",
       "Object ID                                                               \n",
       "1                        18.0 2006-10-09 14:21:51-04:00       2006-10   \n",
       "2                         1.0 2006-10-09 14:30:28-04:00       2006-10   \n",
       "3                         1.0 2006-10-09 14:40:33-04:00       2006-10   \n",
       "4                         1.0 2006-10-09 14:47:42-04:00       2006-10   \n",
       "5                         1.0 2006-10-09 14:51:04-04:00       2006-10   \n",
       "\n",
       "          Day of Week  Hour of the Day  \n",
       "Object ID                               \n",
       "1              Monday               14  \n",
       "2              Monday               14  \n",
       "3              Monday               14  \n",
       "4              Monday               14  \n",
       "5              Monday               14  "
      ]
     },
     "execution_count": 3,
     "metadata": {},
     "output_type": "execute_result"
    }
   ],
   "source": [
    "df.head()"
   ]
  },
  {
   "cell_type": "code",
   "execution_count": 4,
   "metadata": {},
   "outputs": [
    {
     "name": "stdout",
     "output_type": "stream",
     "text": [
      "<class 'pandas.core.frame.DataFrame'>\n",
      "Int64Index: 2822673 entries, 1 to 21416156\n",
      "Data columns (total 11 columns):\n",
      "Title                 object\n",
      "Post Type             category\n",
      "Author                object\n",
      "Created At            datetime64[ns]\n",
      "URL                   object\n",
      "Points                int64\n",
      "Number of Comments    float64\n",
      "Created At Eastern    datetime64[ns, US/Eastern]\n",
      "Rounded Month         period[M]\n",
      "Day of Week           object\n",
      "Hour of the Day       int64\n",
      "dtypes: category(1), datetime64[ns, US/Eastern](1), datetime64[ns](1), float64(1), int64(2), object(4), period[M](1)\n",
      "memory usage: 239.6+ MB\n"
     ]
    }
   ],
   "source": [
    "df.info()"
   ]
  },
  {
   "cell_type": "markdown",
   "metadata": {},
   "source": [
    "---"
   ]
  },
  {
   "cell_type": "markdown",
   "metadata": {},
   "source": [
    "## Analysis"
   ]
  },
  {
   "cell_type": "markdown",
   "metadata": {},
   "source": [
    "### Distribution of posts by day of the week\n",
    "\n",
    "It's interesting to see what days were used to post different types of stories:"
   ]
  },
  {
   "cell_type": "code",
   "execution_count": 5,
   "metadata": {},
   "outputs": [],
   "source": [
    "subset = df.loc[df['Created At Eastern'] > '2019']"
   ]
  },
  {
   "cell_type": "code",
   "execution_count": 6,
   "metadata": {},
   "outputs": [],
   "source": [
    "results = df['Title'].groupby([df['Day of Week'], df['Post Type']]).count().unstack()"
   ]
  },
  {
   "cell_type": "code",
   "execution_count": 7,
   "metadata": {},
   "outputs": [],
   "source": [
    "results = subset['Title'].groupby([subset['Day of Week'], subset['Post Type']]).count().unstack()"
   ]
  },
  {
   "cell_type": "code",
   "execution_count": 8,
   "metadata": {},
   "outputs": [],
   "source": [
    "# Order by day of week\n",
    "results = results.loc[list(calendar.day_name)]"
   ]
  },
  {
   "cell_type": "code",
   "execution_count": 9,
   "metadata": {},
   "outputs": [
    {
     "data": {
      "text/html": [
       "<div>\n",
       "<style scoped>\n",
       "    .dataframe tbody tr th:only-of-type {\n",
       "        vertical-align: middle;\n",
       "    }\n",
       "\n",
       "    .dataframe tbody tr th {\n",
       "        vertical-align: top;\n",
       "    }\n",
       "\n",
       "    .dataframe thead th {\n",
       "        text-align: right;\n",
       "    }\n",
       "</style>\n",
       "<table border=\"1\" class=\"dataframe\">\n",
       "  <thead>\n",
       "    <tr style=\"text-align: right;\">\n",
       "      <th>Post Type</th>\n",
       "      <th>ask_hn</th>\n",
       "      <th>poll</th>\n",
       "      <th>story</th>\n",
       "      <th>show_hn</th>\n",
       "    </tr>\n",
       "    <tr>\n",
       "      <th>Day of Week</th>\n",
       "      <th></th>\n",
       "      <th></th>\n",
       "      <th></th>\n",
       "      <th></th>\n",
       "    </tr>\n",
       "  </thead>\n",
       "  <tbody>\n",
       "    <tr>\n",
       "      <th>Monday</th>\n",
       "      <td>1482.0</td>\n",
       "      <td>4.0</td>\n",
       "      <td>36610.0</td>\n",
       "      <td>1544.0</td>\n",
       "    </tr>\n",
       "    <tr>\n",
       "      <th>Tuesday</th>\n",
       "      <td>1637.0</td>\n",
       "      <td>4.0</td>\n",
       "      <td>39612.0</td>\n",
       "      <td>1558.0</td>\n",
       "    </tr>\n",
       "    <tr>\n",
       "      <th>Wednesday</th>\n",
       "      <td>1559.0</td>\n",
       "      <td>2.0</td>\n",
       "      <td>39823.0</td>\n",
       "      <td>1595.0</td>\n",
       "    </tr>\n",
       "    <tr>\n",
       "      <th>Thursday</th>\n",
       "      <td>1503.0</td>\n",
       "      <td>4.0</td>\n",
       "      <td>39283.0</td>\n",
       "      <td>1419.0</td>\n",
       "    </tr>\n",
       "    <tr>\n",
       "      <th>Friday</th>\n",
       "      <td>1439.0</td>\n",
       "      <td>NaN</td>\n",
       "      <td>33802.0</td>\n",
       "      <td>1189.0</td>\n",
       "    </tr>\n",
       "    <tr>\n",
       "      <th>Saturday</th>\n",
       "      <td>954.0</td>\n",
       "      <td>4.0</td>\n",
       "      <td>21429.0</td>\n",
       "      <td>816.0</td>\n",
       "    </tr>\n",
       "    <tr>\n",
       "      <th>Sunday</th>\n",
       "      <td>1103.0</td>\n",
       "      <td>1.0</td>\n",
       "      <td>21733.0</td>\n",
       "      <td>875.0</td>\n",
       "    </tr>\n",
       "  </tbody>\n",
       "</table>\n",
       "</div>"
      ],
      "text/plain": [
       "Post Type    ask_hn  poll    story  show_hn\n",
       "Day of Week                                \n",
       "Monday       1482.0   4.0  36610.0   1544.0\n",
       "Tuesday      1637.0   4.0  39612.0   1558.0\n",
       "Wednesday    1559.0   2.0  39823.0   1595.0\n",
       "Thursday     1503.0   4.0  39283.0   1419.0\n",
       "Friday       1439.0   NaN  33802.0   1189.0\n",
       "Saturday      954.0   4.0  21429.0    816.0\n",
       "Sunday       1103.0   1.0  21733.0    875.0"
      ]
     },
     "execution_count": 9,
     "metadata": {},
     "output_type": "execute_result"
    }
   ],
   "source": [
    "results"
   ]
  },
  {
   "cell_type": "markdown",
   "metadata": {},
   "source": [
    "Here's a complete summary; it's perfectly clear that Saturdays and Sundays are the days were less posts are created, with Tuesday being the most popular day:"
   ]
  },
  {
   "cell_type": "code",
   "execution_count": 11,
   "metadata": {},
   "outputs": [
    {
     "data": {
      "text/html": [
       "<embed src=data:image/svg+xml;charset=utf-8;base64,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></embed>"
      ],
      "text/plain": [
       "<IPython.core.display.HTML object>"
      ]
     },
     "execution_count": 11,
     "metadata": {},
     "output_type": "execute_result"
    }
   ],
   "source": [
    "chart = pygal.StackedBar(explicit_size=900, style=style.BlueStyle)\n",
    "\n",
    "chart.x_labels = results.index.values\n",
    "chart.add('Stories', results['story'].values)\n",
    "chart.add('Ask HN', results['ask_hn'].values)\n",
    "chart.add('Show HN', results['show_hn'].values)\n",
    "chart.add('Poll', results['poll'].values)\n",
    "\n",
    "render(chart)"
   ]
  },
  {
   "cell_type": "code",
   "execution_count": 13,
   "metadata": {},
   "outputs": [],
   "source": [
    "chart.render_to_png('img/posts_per_day_of_week.png')"
   ]
  },
  {
   "cell_type": "markdown",
   "metadata": {},
   "source": [
    "### High Volume, high competition vs low volume low competition"
   ]
  },
  {
   "cell_type": "markdown",
   "metadata": {},
   "source": [
    "Number of submissions per day and hour:"
   ]
  },
  {
   "cell_type": "code",
   "execution_count": 14,
   "metadata": {},
   "outputs": [],
   "source": [
    "total_posts = df['Title'].groupby([df['Day of Week'], df['Hour of the Day']]).count().unstack()"
   ]
  },
  {
   "cell_type": "code",
   "execution_count": 20,
   "metadata": {},
   "outputs": [],
   "source": [
    "total_posts.index = total_posts.reset_index()['Day of Week'].str[:3]"
   ]
  },
  {
   "cell_type": "code",
   "execution_count": 21,
   "metadata": {},
   "outputs": [],
   "source": [
    "total_posts = total_posts.loc[[calendar.day_abbr[i] for i in range(7)]]"
   ]
  },
  {
   "cell_type": "code",
   "execution_count": 22,
   "metadata": {},
   "outputs": [
    {
     "data": {
      "text/html": [
       "<div>\n",
       "<style scoped>\n",
       "    .dataframe tbody tr th:only-of-type {\n",
       "        vertical-align: middle;\n",
       "    }\n",
       "\n",
       "    .dataframe tbody tr th {\n",
       "        vertical-align: top;\n",
       "    }\n",
       "\n",
       "    .dataframe thead th {\n",
       "        text-align: right;\n",
       "    }\n",
       "</style>\n",
       "<table border=\"1\" class=\"dataframe\">\n",
       "  <thead>\n",
       "    <tr style=\"text-align: right;\">\n",
       "      <th>Hour of the Day</th>\n",
       "      <th>0</th>\n",
       "      <th>1</th>\n",
       "      <th>2</th>\n",
       "      <th>3</th>\n",
       "      <th>4</th>\n",
       "      <th>5</th>\n",
       "      <th>6</th>\n",
       "      <th>7</th>\n",
       "      <th>8</th>\n",
       "      <th>9</th>\n",
       "      <th>...</th>\n",
       "      <th>14</th>\n",
       "      <th>15</th>\n",
       "      <th>16</th>\n",
       "      <th>17</th>\n",
       "      <th>18</th>\n",
       "      <th>19</th>\n",
       "      <th>20</th>\n",
       "      <th>21</th>\n",
       "      <th>22</th>\n",
       "      <th>23</th>\n",
       "    </tr>\n",
       "    <tr>\n",
       "      <th>Day of Week</th>\n",
       "      <th></th>\n",
       "      <th></th>\n",
       "      <th></th>\n",
       "      <th></th>\n",
       "      <th></th>\n",
       "      <th></th>\n",
       "      <th></th>\n",
       "      <th></th>\n",
       "      <th></th>\n",
       "      <th></th>\n",
       "      <th></th>\n",
       "      <th></th>\n",
       "      <th></th>\n",
       "      <th></th>\n",
       "      <th></th>\n",
       "      <th></th>\n",
       "      <th></th>\n",
       "      <th></th>\n",
       "      <th></th>\n",
       "      <th></th>\n",
       "      <th></th>\n",
       "    </tr>\n",
       "  </thead>\n",
       "  <tbody>\n",
       "    <tr>\n",
       "      <th>Mon</th>\n",
       "      <td>10307</td>\n",
       "      <td>10156</td>\n",
       "      <td>11464</td>\n",
       "      <td>11677</td>\n",
       "      <td>12530</td>\n",
       "      <td>13210</td>\n",
       "      <td>14252</td>\n",
       "      <td>17030</td>\n",
       "      <td>21184</td>\n",
       "      <td>26617</td>\n",
       "      <td>...</td>\n",
       "      <td>28389</td>\n",
       "      <td>26185</td>\n",
       "      <td>25006</td>\n",
       "      <td>22277</td>\n",
       "      <td>18255</td>\n",
       "      <td>15304</td>\n",
       "      <td>13982</td>\n",
       "      <td>13227</td>\n",
       "      <td>12582</td>\n",
       "      <td>12471</td>\n",
       "    </tr>\n",
       "    <tr>\n",
       "      <th>Tue</th>\n",
       "      <td>12104</td>\n",
       "      <td>11830</td>\n",
       "      <td>12498</td>\n",
       "      <td>13285</td>\n",
       "      <td>13910</td>\n",
       "      <td>14510</td>\n",
       "      <td>15774</td>\n",
       "      <td>18561</td>\n",
       "      <td>22914</td>\n",
       "      <td>29287</td>\n",
       "      <td>...</td>\n",
       "      <td>30663</td>\n",
       "      <td>27551</td>\n",
       "      <td>26246</td>\n",
       "      <td>22923</td>\n",
       "      <td>18899</td>\n",
       "      <td>15781</td>\n",
       "      <td>14206</td>\n",
       "      <td>13201</td>\n",
       "      <td>12998</td>\n",
       "      <td>12525</td>\n",
       "    </tr>\n",
       "    <tr>\n",
       "      <th>Wed</th>\n",
       "      <td>12271</td>\n",
       "      <td>12135</td>\n",
       "      <td>12332</td>\n",
       "      <td>12931</td>\n",
       "      <td>14019</td>\n",
       "      <td>14377</td>\n",
       "      <td>16052</td>\n",
       "      <td>17968</td>\n",
       "      <td>22725</td>\n",
       "      <td>28688</td>\n",
       "      <td>...</td>\n",
       "      <td>29982</td>\n",
       "      <td>27185</td>\n",
       "      <td>25912</td>\n",
       "      <td>22980</td>\n",
       "      <td>18617</td>\n",
       "      <td>16047</td>\n",
       "      <td>13985</td>\n",
       "      <td>13238</td>\n",
       "      <td>12565</td>\n",
       "      <td>12196</td>\n",
       "    </tr>\n",
       "    <tr>\n",
       "      <th>Thu</th>\n",
       "      <td>11802</td>\n",
       "      <td>11590</td>\n",
       "      <td>12260</td>\n",
       "      <td>12758</td>\n",
       "      <td>13566</td>\n",
       "      <td>14105</td>\n",
       "      <td>15479</td>\n",
       "      <td>18024</td>\n",
       "      <td>22061</td>\n",
       "      <td>27554</td>\n",
       "      <td>...</td>\n",
       "      <td>29431</td>\n",
       "      <td>26510</td>\n",
       "      <td>25381</td>\n",
       "      <td>22376</td>\n",
       "      <td>18039</td>\n",
       "      <td>15644</td>\n",
       "      <td>13755</td>\n",
       "      <td>12630</td>\n",
       "      <td>12015</td>\n",
       "      <td>11672</td>\n",
       "    </tr>\n",
       "    <tr>\n",
       "      <th>Fri</th>\n",
       "      <td>11040</td>\n",
       "      <td>11235</td>\n",
       "      <td>11634</td>\n",
       "      <td>11925</td>\n",
       "      <td>12924</td>\n",
       "      <td>13490</td>\n",
       "      <td>14272</td>\n",
       "      <td>16247</td>\n",
       "      <td>20273</td>\n",
       "      <td>24628</td>\n",
       "      <td>...</td>\n",
       "      <td>25149</td>\n",
       "      <td>22882</td>\n",
       "      <td>21185</td>\n",
       "      <td>18399</td>\n",
       "      <td>15037</td>\n",
       "      <td>12617</td>\n",
       "      <td>10705</td>\n",
       "      <td>9273</td>\n",
       "      <td>8459</td>\n",
       "      <td>8314</td>\n",
       "    </tr>\n",
       "    <tr>\n",
       "      <th>Sat</th>\n",
       "      <td>7772</td>\n",
       "      <td>7503</td>\n",
       "      <td>7441</td>\n",
       "      <td>7279</td>\n",
       "      <td>7406</td>\n",
       "      <td>7610</td>\n",
       "      <td>8352</td>\n",
       "      <td>8970</td>\n",
       "      <td>9974</td>\n",
       "      <td>11533</td>\n",
       "      <td>...</td>\n",
       "      <td>13789</td>\n",
       "      <td>13009</td>\n",
       "      <td>12130</td>\n",
       "      <td>11158</td>\n",
       "      <td>10448</td>\n",
       "      <td>8953</td>\n",
       "      <td>8202</td>\n",
       "      <td>7878</td>\n",
       "      <td>7440</td>\n",
       "      <td>7098</td>\n",
       "    </tr>\n",
       "    <tr>\n",
       "      <th>Sun</th>\n",
       "      <td>6832</td>\n",
       "      <td>6635</td>\n",
       "      <td>6106</td>\n",
       "      <td>6536</td>\n",
       "      <td>6696</td>\n",
       "      <td>7083</td>\n",
       "      <td>7759</td>\n",
       "      <td>8572</td>\n",
       "      <td>9561</td>\n",
       "      <td>10917</td>\n",
       "      <td>...</td>\n",
       "      <td>14469</td>\n",
       "      <td>14119</td>\n",
       "      <td>13437</td>\n",
       "      <td>12921</td>\n",
       "      <td>11248</td>\n",
       "      <td>10453</td>\n",
       "      <td>10090</td>\n",
       "      <td>10130</td>\n",
       "      <td>10352</td>\n",
       "      <td>10136</td>\n",
       "    </tr>\n",
       "  </tbody>\n",
       "</table>\n",
       "<p>7 rows × 24 columns</p>\n",
       "</div>"
      ],
      "text/plain": [
       "Hour of the Day     0      1      2      3      4      5      6      7   \\\n",
       "Day of Week                                                               \n",
       "Mon              10307  10156  11464  11677  12530  13210  14252  17030   \n",
       "Tue              12104  11830  12498  13285  13910  14510  15774  18561   \n",
       "Wed              12271  12135  12332  12931  14019  14377  16052  17968   \n",
       "Thu              11802  11590  12260  12758  13566  14105  15479  18024   \n",
       "Fri              11040  11235  11634  11925  12924  13490  14272  16247   \n",
       "Sat               7772   7503   7441   7279   7406   7610   8352   8970   \n",
       "Sun               6832   6635   6106   6536   6696   7083   7759   8572   \n",
       "\n",
       "Hour of the Day     8      9   ...     14     15     16     17     18     19  \\\n",
       "Day of Week                    ...                                             \n",
       "Mon              21184  26617  ...  28389  26185  25006  22277  18255  15304   \n",
       "Tue              22914  29287  ...  30663  27551  26246  22923  18899  15781   \n",
       "Wed              22725  28688  ...  29982  27185  25912  22980  18617  16047   \n",
       "Thu              22061  27554  ...  29431  26510  25381  22376  18039  15644   \n",
       "Fri              20273  24628  ...  25149  22882  21185  18399  15037  12617   \n",
       "Sat               9974  11533  ...  13789  13009  12130  11158  10448   8953   \n",
       "Sun               9561  10917  ...  14469  14119  13437  12921  11248  10453   \n",
       "\n",
       "Hour of the Day     20     21     22     23  \n",
       "Day of Week                                  \n",
       "Mon              13982  13227  12582  12471  \n",
       "Tue              14206  13201  12998  12525  \n",
       "Wed              13985  13238  12565  12196  \n",
       "Thu              13755  12630  12015  11672  \n",
       "Fri              10705   9273   8459   8314  \n",
       "Sat               8202   7878   7440   7098  \n",
       "Sun              10090  10130  10352  10136  \n",
       "\n",
       "[7 rows x 24 columns]"
      ]
     },
     "execution_count": 22,
     "metadata": {},
     "output_type": "execute_result"
    }
   ],
   "source": [
    "total_posts"
   ]
  },
  {
   "cell_type": "code",
   "execution_count": 23,
   "metadata": {},
   "outputs": [
    {
     "data": {
      "text/plain": [
       "<matplotlib.axes._subplots.AxesSubplot at 0x1207fa5d0>"
      ]
     },
     "execution_count": 23,
     "metadata": {},
     "output_type": "execute_result"
    },
    {
     "data": {
      "image/png": "[encoded data removed]",
      "text/plain": [
       "<Figure size 1296x504 with 2 Axes>"
      ]
     },
     "metadata": {
      "needs_background": "light"
     },
     "output_type": "display_data"
    }
   ],
   "source": [
    "grid_kws = {\"height_ratios\": (.9, .05), \"hspace\": .3}\n",
    "fig, (ax, cbar_ax) = plt.subplots(2, figsize=(18, 7), gridspec_kw=grid_kws)\n",
    "ax.set_title('Total Posts per day and hour')\n",
    "sns.heatmap(\n",
    "    total_posts, square=True,\n",
    "    cmap=\"YlGnBu\",\n",
    "    ax=ax, cbar_ax=cbar_ax, cbar_kws={\"orientation\": \"horizontal\"})\n"
   ]
  },
  {
   "cell_type": "markdown",
   "metadata": {},
   "source": [
    "Total points per day and hour:"
   ]
  },
  {
   "cell_type": "code",
   "execution_count": 27,
   "metadata": {},
   "outputs": [],
   "source": [
    "total_points = df['Points'].groupby([df['Day of Week'], df['Hour of the Day']]).sum().unstack()"
   ]
  },
  {
   "cell_type": "code",
   "execution_count": 28,
   "metadata": {},
   "outputs": [],
   "source": [
    "total_points.index = total_points.reset_index()['Day of Week'].str[:3]"
   ]
  },
  {
   "cell_type": "code",
   "execution_count": 29,
   "metadata": {},
   "outputs": [],
   "source": [
    "total_points = total_points.loc[[calendar.day_abbr[i] for i in range(7)]]"
   ]
  },
  {
   "cell_type": "code",
   "execution_count": 30,
   "metadata": {},
   "outputs": [
    {
     "data": {
      "text/plain": [
       "<matplotlib.axes._subplots.AxesSubplot at 0x14b64b490>"
      ]
     },
     "execution_count": 30,
     "metadata": {},
     "output_type": "execute_result"
    },
    {
     "data": {
      "image/png": "[encoded data removed]",
      "text/plain": [
       "<Figure size 1296x504 with 2 Axes>"
      ]
     },
     "metadata": {
      "needs_background": "light"
     },
     "output_type": "display_data"
    }
   ],
   "source": [
    "grid_kws = {\"height_ratios\": (.9, .05), \"hspace\": .3}\n",
    "fig, (ax, cbar_ax) = plt.subplots(2, figsize=(18, 7), gridspec_kw=grid_kws)\n",
    "ax.set_title('Total Posts per day and hour')\n",
    "sns.heatmap(\n",
    "    total_posts, square=True,\n",
    "    cmap=\"YlGnBu\",\n",
    "    ax=ax, cbar_ax=cbar_ax, cbar_kws={\"orientation\": \"horizontal\"})\n"
   ]
  },
  {
   "cell_type": "markdown",
   "metadata": {},
   "source": [
    "Average points per post per day and hour:"
   ]
  },
  {
   "cell_type": "code",
   "execution_count": 32,
   "metadata": {},
   "outputs": [],
   "source": [
    "avg_points_post = total_points/total_posts"
   ]
  },
  {
   "cell_type": "code",
   "execution_count": 33,
   "metadata": {},
   "outputs": [
    {
     "data": {
      "text/html": [
       "<div>\n",
       "<style scoped>\n",
       "    .dataframe tbody tr th:only-of-type {\n",
       "        vertical-align: middle;\n",
       "    }\n",
       "\n",
       "    .dataframe tbody tr th {\n",
       "        vertical-align: top;\n",
       "    }\n",
       "\n",
       "    .dataframe thead th {\n",
       "        text-align: right;\n",
       "    }\n",
       "</style>\n",
       "<table border=\"1\" class=\"dataframe\">\n",
       "  <thead>\n",
       "    <tr style=\"text-align: right;\">\n",
       "      <th>Hour of the Day</th>\n",
       "      <th>0</th>\n",
       "      <th>1</th>\n",
       "      <th>2</th>\n",
       "      <th>3</th>\n",
       "      <th>4</th>\n",
       "      <th>5</th>\n",
       "      <th>6</th>\n",
       "      <th>7</th>\n",
       "      <th>8</th>\n",
       "      <th>9</th>\n",
       "      <th>...</th>\n",
       "      <th>14</th>\n",
       "      <th>15</th>\n",
       "      <th>16</th>\n",
       "      <th>17</th>\n",
       "      <th>18</th>\n",
       "      <th>19</th>\n",
       "      <th>20</th>\n",
       "      <th>21</th>\n",
       "      <th>22</th>\n",
       "      <th>23</th>\n",
       "    </tr>\n",
       "    <tr>\n",
       "      <th>Day of Week</th>\n",
       "      <th></th>\n",
       "      <th></th>\n",
       "      <th></th>\n",
       "      <th></th>\n",
       "      <th></th>\n",
       "      <th></th>\n",
       "      <th></th>\n",
       "      <th></th>\n",
       "      <th></th>\n",
       "      <th></th>\n",
       "      <th></th>\n",
       "      <th></th>\n",
       "      <th></th>\n",
       "      <th></th>\n",
       "      <th></th>\n",
       "      <th></th>\n",
       "      <th></th>\n",
       "      <th></th>\n",
       "      <th></th>\n",
       "      <th></th>\n",
       "      <th></th>\n",
       "    </tr>\n",
       "  </thead>\n",
       "  <tbody>\n",
       "    <tr>\n",
       "      <th>Mon</th>\n",
       "      <td>14.237800</td>\n",
       "      <td>13.378102</td>\n",
       "      <td>12.230897</td>\n",
       "      <td>12.345637</td>\n",
       "      <td>12.921947</td>\n",
       "      <td>12.649659</td>\n",
       "      <td>13.319113</td>\n",
       "      <td>13.620258</td>\n",
       "      <td>13.976397</td>\n",
       "      <td>13.323553</td>\n",
       "      <td>...</td>\n",
       "      <td>13.636056</td>\n",
       "      <td>13.593011</td>\n",
       "      <td>12.747061</td>\n",
       "      <td>12.101091</td>\n",
       "      <td>12.663928</td>\n",
       "      <td>13.754835</td>\n",
       "      <td>12.849950</td>\n",
       "      <td>13.559084</td>\n",
       "      <td>13.663964</td>\n",
       "      <td>12.419373</td>\n",
       "    </tr>\n",
       "    <tr>\n",
       "      <th>Tue</th>\n",
       "      <td>11.991490</td>\n",
       "      <td>11.205325</td>\n",
       "      <td>10.957993</td>\n",
       "      <td>11.946782</td>\n",
       "      <td>11.680446</td>\n",
       "      <td>11.406616</td>\n",
       "      <td>12.658108</td>\n",
       "      <td>13.882442</td>\n",
       "      <td>13.751287</td>\n",
       "      <td>12.807867</td>\n",
       "      <td>...</td>\n",
       "      <td>12.332192</td>\n",
       "      <td>12.137999</td>\n",
       "      <td>12.276842</td>\n",
       "      <td>12.284125</td>\n",
       "      <td>12.709826</td>\n",
       "      <td>12.396173</td>\n",
       "      <td>12.808250</td>\n",
       "      <td>13.204530</td>\n",
       "      <td>12.759963</td>\n",
       "      <td>12.278164</td>\n",
       "    </tr>\n",
       "    <tr>\n",
       "      <th>Wed</th>\n",
       "      <td>12.182300</td>\n",
       "      <td>11.552781</td>\n",
       "      <td>12.176776</td>\n",
       "      <td>11.249787</td>\n",
       "      <td>10.903060</td>\n",
       "      <td>11.705502</td>\n",
       "      <td>12.339459</td>\n",
       "      <td>14.222729</td>\n",
       "      <td>13.999912</td>\n",
       "      <td>12.778618</td>\n",
       "      <td>...</td>\n",
       "      <td>12.884697</td>\n",
       "      <td>12.709068</td>\n",
       "      <td>12.650085</td>\n",
       "      <td>12.277241</td>\n",
       "      <td>12.709943</td>\n",
       "      <td>12.677011</td>\n",
       "      <td>12.837683</td>\n",
       "      <td>12.781689</td>\n",
       "      <td>12.826900</td>\n",
       "      <td>13.478026</td>\n",
       "    </tr>\n",
       "    <tr>\n",
       "      <th>Thu</th>\n",
       "      <td>11.910608</td>\n",
       "      <td>11.858154</td>\n",
       "      <td>10.442659</td>\n",
       "      <td>10.859226</td>\n",
       "      <td>10.771782</td>\n",
       "      <td>12.010209</td>\n",
       "      <td>13.053621</td>\n",
       "      <td>13.927874</td>\n",
       "      <td>14.750193</td>\n",
       "      <td>13.463889</td>\n",
       "      <td>...</td>\n",
       "      <td>12.813802</td>\n",
       "      <td>12.907318</td>\n",
       "      <td>12.864860</td>\n",
       "      <td>12.568958</td>\n",
       "      <td>12.822995</td>\n",
       "      <td>12.619215</td>\n",
       "      <td>13.083606</td>\n",
       "      <td>12.395487</td>\n",
       "      <td>12.764877</td>\n",
       "      <td>12.957848</td>\n",
       "    </tr>\n",
       "    <tr>\n",
       "      <th>Fri</th>\n",
       "      <td>12.727083</td>\n",
       "      <td>12.060080</td>\n",
       "      <td>11.441035</td>\n",
       "      <td>10.789266</td>\n",
       "      <td>11.141752</td>\n",
       "      <td>12.642402</td>\n",
       "      <td>13.177340</td>\n",
       "      <td>14.388441</td>\n",
       "      <td>14.840675</td>\n",
       "      <td>13.630502</td>\n",
       "      <td>...</td>\n",
       "      <td>13.385701</td>\n",
       "      <td>13.020933</td>\n",
       "      <td>12.176068</td>\n",
       "      <td>12.573346</td>\n",
       "      <td>11.772495</td>\n",
       "      <td>12.539827</td>\n",
       "      <td>13.162915</td>\n",
       "      <td>13.394047</td>\n",
       "      <td>12.614493</td>\n",
       "      <td>12.922781</td>\n",
       "    </tr>\n",
       "    <tr>\n",
       "      <th>Sat</th>\n",
       "      <td>13.088137</td>\n",
       "      <td>12.832600</td>\n",
       "      <td>12.719258</td>\n",
       "      <td>12.775106</td>\n",
       "      <td>12.535377</td>\n",
       "      <td>11.785414</td>\n",
       "      <td>14.969828</td>\n",
       "      <td>15.770792</td>\n",
       "      <td>17.094345</td>\n",
       "      <td>17.053932</td>\n",
       "      <td>...</td>\n",
       "      <td>16.433534</td>\n",
       "      <td>15.541164</td>\n",
       "      <td>16.324897</td>\n",
       "      <td>15.384567</td>\n",
       "      <td>15.533308</td>\n",
       "      <td>16.719870</td>\n",
       "      <td>16.515606</td>\n",
       "      <td>16.381569</td>\n",
       "      <td>16.872581</td>\n",
       "      <td>15.831220</td>\n",
       "    </tr>\n",
       "    <tr>\n",
       "      <th>Sun</th>\n",
       "      <td>16.179011</td>\n",
       "      <td>15.198945</td>\n",
       "      <td>15.615952</td>\n",
       "      <td>15.587974</td>\n",
       "      <td>15.800926</td>\n",
       "      <td>15.227728</td>\n",
       "      <td>16.401985</td>\n",
       "      <td>18.083878</td>\n",
       "      <td>17.844263</td>\n",
       "      <td>16.869286</td>\n",
       "      <td>...</td>\n",
       "      <td>16.669293</td>\n",
       "      <td>16.307600</td>\n",
       "      <td>17.118702</td>\n",
       "      <td>16.544463</td>\n",
       "      <td>16.597795</td>\n",
       "      <td>16.728021</td>\n",
       "      <td>16.340139</td>\n",
       "      <td>17.580553</td>\n",
       "      <td>16.044049</td>\n",
       "      <td>15.322021</td>\n",
       "    </tr>\n",
       "  </tbody>\n",
       "</table>\n",
       "<p>7 rows × 24 columns</p>\n",
       "</div>"
      ],
      "text/plain": [
       "Hour of the Day         0          1          2          3          4   \\\n",
       "Day of Week                                                              \n",
       "Mon              14.237800  13.378102  12.230897  12.345637  12.921947   \n",
       "Tue              11.991490  11.205325  10.957993  11.946782  11.680446   \n",
       "Wed              12.182300  11.552781  12.176776  11.249787  10.903060   \n",
       "Thu              11.910608  11.858154  10.442659  10.859226  10.771782   \n",
       "Fri              12.727083  12.060080  11.441035  10.789266  11.141752   \n",
       "Sat              13.088137  12.832600  12.719258  12.775106  12.535377   \n",
       "Sun              16.179011  15.198945  15.615952  15.587974  15.800926   \n",
       "\n",
       "Hour of the Day         5          6          7          8          9   ...  \\\n",
       "Day of Week                                                             ...   \n",
       "Mon              12.649659  13.319113  13.620258  13.976397  13.323553  ...   \n",
       "Tue              11.406616  12.658108  13.882442  13.751287  12.807867  ...   \n",
       "Wed              11.705502  12.339459  14.222729  13.999912  12.778618  ...   \n",
       "Thu              12.010209  13.053621  13.927874  14.750193  13.463889  ...   \n",
       "Fri              12.642402  13.177340  14.388441  14.840675  13.630502  ...   \n",
       "Sat              11.785414  14.969828  15.770792  17.094345  17.053932  ...   \n",
       "Sun              15.227728  16.401985  18.083878  17.844263  16.869286  ...   \n",
       "\n",
       "Hour of the Day         14         15         16         17         18  \\\n",
       "Day of Week                                                              \n",
       "Mon              13.636056  13.593011  12.747061  12.101091  12.663928   \n",
       "Tue              12.332192  12.137999  12.276842  12.284125  12.709826   \n",
       "Wed              12.884697  12.709068  12.650085  12.277241  12.709943   \n",
       "Thu              12.813802  12.907318  12.864860  12.568958  12.822995   \n",
       "Fri              13.385701  13.020933  12.176068  12.573346  11.772495   \n",
       "Sat              16.433534  15.541164  16.324897  15.384567  15.533308   \n",
       "Sun              16.669293  16.307600  17.118702  16.544463  16.597795   \n",
       "\n",
       "Hour of the Day         19         20         21         22         23  \n",
       "Day of Week                                                             \n",
       "Mon              13.754835  12.849950  13.559084  13.663964  12.419373  \n",
       "Tue              12.396173  12.808250  13.204530  12.759963  12.278164  \n",
       "Wed              12.677011  12.837683  12.781689  12.826900  13.478026  \n",
       "Thu              12.619215  13.083606  12.395487  12.764877  12.957848  \n",
       "Fri              12.539827  13.162915  13.394047  12.614493  12.922781  \n",
       "Sat              16.719870  16.515606  16.381569  16.872581  15.831220  \n",
       "Sun              16.728021  16.340139  17.580553  16.044049  15.322021  \n",
       "\n",
       "[7 rows x 24 columns]"
      ]
     },
     "execution_count": 33,
     "metadata": {},
     "output_type": "execute_result"
    }
   ],
   "source": [
    "avg_points_post"
   ]
  },
  {
   "cell_type": "code",
   "execution_count": 34,
   "metadata": {},
   "outputs": [
    {
     "data": {
      "text/plain": [
       "<matplotlib.axes._subplots.AxesSubplot at 0x15a809bd0>"
      ]
     },
     "execution_count": 34,
     "metadata": {},
     "output_type": "execute_result"
    },
    {
     "data": {
      "image/png": "[encoded data removed]",
      "text/plain": [
       "<Figure size 1296x504 with 2 Axes>"
      ]
     },
     "metadata": {
      "needs_background": "light"
     },
     "output_type": "display_data"
    }
   ],
   "source": [
    "grid_kws = {\"height_ratios\": (.9, .05), \"hspace\": .3}\n",
    "fig, (ax, cbar_ax) = plt.subplots(2, figsize=(18, 7), gridspec_kw=grid_kws)\n",
    "sns.heatmap(\n",
    "    avg_points_post, square=True,\n",
    "    cmap=\"YlGnBu\",\n",
    "    ax=ax, cbar_ax=cbar_ax, cbar_kws={\"orientation\": \"horizontal\"})\n"
   ]
  },
  {
   "cell_type": "markdown",
   "metadata": {},
   "source": [
    "---"
   ]
  },
  {
   "cell_type": "markdown",
   "metadata": {},
   "source": [
    "### Percentile analysis\n",
    "\n",
    "Percentile 75% for points per day and hour:"
   ]
  },
  {
   "cell_type": "code",
   "execution_count": 36,
   "metadata": {},
   "outputs": [],
   "source": [
    "perc_75 = df['Points'].groupby(\n",
    "    [df['Day of Week'], df['Hour of the Day']]).agg(lambda x: np.percentile(x, 75)).unstack()"
   ]
  },
  {
   "cell_type": "code",
   "execution_count": 37,
   "metadata": {},
   "outputs": [],
   "source": [
    "perc_75.index = perc_75.reset_index()['Day of Week'].str[:3]"
   ]
  },
  {
   "cell_type": "code",
   "execution_count": 38,
   "metadata": {},
   "outputs": [],
   "source": [
    "perc_75 = perc_75.loc[[calendar.day_abbr[i] for i in range(7)]]"
   ]
  },
  {
   "cell_type": "code",
   "execution_count": 39,
   "metadata": {},
   "outputs": [
    {
     "data": {
      "text/plain": [
       "<matplotlib.axes._subplots.AxesSubplot at 0x15c034d90>"
      ]
     },
     "execution_count": 39,
     "metadata": {},
     "output_type": "execute_result"
    },
    {
     "data": {
      "image/png": "[encoded data removed]",
      "text/plain": [
       "<Figure size 1296x504 with 2 Axes>"
      ]
     },
     "metadata": {
      "needs_background": "light"
     },
     "output_type": "display_data"
    }
   ],
   "source": [
    "grid_kws = {\"height_ratios\": (.9, .05), \"hspace\": .3}\n",
    "fig, (ax, cbar_ax) = plt.subplots(2, figsize=(18, 7), gridspec_kw=grid_kws)\n",
    "sns.heatmap(\n",
    "    perc_75,square=True, annot=True,\n",
    "    cmap=\"YlGnBu\",\n",
    "    ax=ax, cbar_ax=cbar_ax, cbar_kws={\"orientation\": \"horizontal\"})\n"
   ]
  },
  {
   "cell_type": "markdown",
   "metadata": {},
   "source": [
    "---"
   ]
  },
  {
   "cell_type": "markdown",
   "metadata": {},
   "source": [
    "Percentile to of 10 points:"
   ]
  },
  {
   "cell_type": "code",
   "execution_count": 41,
   "metadata": {},
   "outputs": [],
   "source": [
    "POINTS = 10"
   ]
  },
  {
   "cell_type": "code",
   "execution_count": 43,
   "metadata": {},
   "outputs": [],
   "source": [
    "points_10_perc = df['Points'].groupby([df['Day of Week'], df['Hour of the Day']]).agg(\n",
    "    lambda arr: stats.percentileofscore(arr, POINTS)).unstack()"
   ]
  },
  {
   "cell_type": "code",
   "execution_count": 44,
   "metadata": {},
   "outputs": [],
   "source": [
    "points_10_perc.index = points_10_perc.reset_index()['Day of Week'].str[:3]"
   ]
  },
  {
   "cell_type": "code",
   "execution_count": 45,
   "metadata": {},
   "outputs": [],
   "source": [
    "points_10_perc = points_10_perc.loc[[calendar.day_abbr[i] for i in range(7)]]"
   ]
  },
  {
   "cell_type": "code",
   "execution_count": 46,
   "metadata": {},
   "outputs": [
    {
     "data": {
      "text/plain": [
       "<matplotlib.axes._subplots.AxesSubplot at 0x14250eed0>"
      ]
     },
     "execution_count": 46,
     "metadata": {},
     "output_type": "execute_result"
    },
    {
     "data": {
      "image/png": "[encoded data removed]",
      "text/plain": [
       "<Figure size 1296x504 with 2 Axes>"
      ]
     },
     "metadata": {
      "needs_background": "light"
     },
     "output_type": "display_data"
    }
   ],
   "source": [
    "grid_kws = {\"height_ratios\": (.9, .05), \"hspace\": .3}\n",
    "fig, (ax, cbar_ax) = plt.subplots(2, figsize=(18, 7), gridspec_kw=grid_kws)\n",
    "sns.heatmap(\n",
    "    points_10_perc,square=True,\n",
    "    cmap=\"YlGnBu\",\n",
    "    ax=ax, cbar_ax=cbar_ax, cbar_kws={\"orientation\": \"horizontal\"})\n"
   ]
  },
  {
   "cell_type": "markdown",
   "metadata": {},
   "source": [
    "---\n",
    "\n",
    "### Number of submissions per link:"
   ]
  },
  {
   "cell_type": "code",
   "execution_count": 51,
   "metadata": {},
   "outputs": [],
   "source": [
    "df_url_clean = df.dropna(subset=['URL'])"
   ]
  },
  {
   "cell_type": "code",
   "execution_count": 60,
   "metadata": {},
   "outputs": [],
   "source": [
    "submissions = df['Title'].groupby(df['URL']).count()"
   ]
  },
  {
   "cell_type": "code",
   "execution_count": 61,
   "metadata": {},
   "outputs": [
    {
     "data": {
      "text/plain": [
       "count    2.406650e+06\n",
       "mean     1.100089e+00\n",
       "std      6.443244e-01\n",
       "min      0.000000e+00\n",
       "25%      1.000000e+00\n",
       "50%      1.000000e+00\n",
       "75%      1.000000e+00\n",
       "max      6.040000e+02\n",
       "Name: Title, dtype: float64"
      ]
     },
     "execution_count": 61,
     "metadata": {},
     "output_type": "execute_result"
    }
   ],
   "source": [
    "submissions.describe()"
   ]
  },
  {
   "cell_type": "code",
   "execution_count": 62,
   "metadata": {},
   "outputs": [
    {
     "data": {
      "text/plain": [
       "1    2236092\n",
       "2     126931\n",
       "3      25762\n",
       "4       8021\n",
       "5       3399\n",
       "Name: Title, dtype: int64"
      ]
     },
     "execution_count": 62,
     "metadata": {},
     "output_type": "execute_result"
    }
   ],
   "source": [
    "submissions.value_counts().head()"
   ]
  },
  {
   "cell_type": "markdown",
   "metadata": {},
   "source": [
    "Percentage of post submitted 2 or more times:"
   ]
  },
  {
   "cell_type": "code",
   "execution_count": 63,
   "metadata": {},
   "outputs": [
    {
     "data": {
      "text/plain": [
       "6.97471589138429"
      ]
     },
     "execution_count": 63,
     "metadata": {},
     "output_type": "execute_result"
    }
   ],
   "source": [
    "(submissions >= 2).sum() / submissions.shape[0] * 100"
   ]
  }
 ],
 "metadata": {
  "kernelspec": {
   "display_name": "Python 3",
   "language": "python",
   "name": "python3"
  },
  "language_info": {
   "codemirror_mode": {
    "name": "ipython",
    "version": 3
   },
   "file_extension": ".py",
   "mimetype": "text/x-python",
   "name": "python",
   "nbconvert_exporter": "python",
   "pygments_lexer": "ipython3",
   "version": "3.7.4"
  }
 },
 "nbformat": 4,
 "nbformat_minor": 4
}
